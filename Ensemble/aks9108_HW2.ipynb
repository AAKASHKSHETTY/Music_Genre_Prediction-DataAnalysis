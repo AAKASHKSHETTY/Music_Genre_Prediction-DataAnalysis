{
 "cells": [
  {
   "cell_type": "code",
   "execution_count": 9,
   "id": "a94aa5ff",
   "metadata": {},
   "outputs": [
    {
     "name": "stderr",
     "output_type": "stream",
     "text": [
      "\n",
      "Attaching package: ‘SimDesign’\n",
      "\n",
      "\n",
      "The following objects are masked from ‘package:caret’:\n",
      "\n",
      "    MAE, RMSE\n",
      "\n",
      "\n"
     ]
    }
   ],
   "source": [
    "library(dplyr)\n",
    "library(randomForest)\n",
    "library(caret)\n",
    "library(tidyverse)\n",
    "library(recipes)\n",
    "library(boot)\n",
    "library(tidymodels)\n",
    "library(ranger)\n",
    "library(xgboost)\n",
    "library(e1071)       #for calculating variable importance\n",
    "library(rpart)       #for fitting decision trees\n",
    "library(ipred)\n",
    "library(SimDesign)"
   ]
  },
  {
   "cell_type": "code",
   "execution_count": 2,
   "id": "0b82a6b2",
   "metadata": {},
   "outputs": [
    {
     "data": {
      "text/html": [
       "<table class=\"dataframe\">\n",
       "<caption>A data.frame: 10 × 18</caption>\n",
       "<thead>\n",
       "\t<tr><th></th><th scope=col>instance_id</th><th scope=col>artist_name</th><th scope=col>track_name</th><th scope=col>popularity</th><th scope=col>acousticness</th><th scope=col>danceability</th><th scope=col>duration_ms</th><th scope=col>energy</th><th scope=col>instrumentalness</th><th scope=col>key</th><th scope=col>liveness</th><th scope=col>loudness</th><th scope=col>mode</th><th scope=col>speechiness</th><th scope=col>tempo</th><th scope=col>obtained_date</th><th scope=col>valence</th><th scope=col>music_genre</th></tr>\n",
       "\t<tr><th></th><th scope=col>&lt;int&gt;</th><th scope=col>&lt;fct&gt;</th><th scope=col>&lt;fct&gt;</th><th scope=col>&lt;int&gt;</th><th scope=col>&lt;dbl&gt;</th><th scope=col>&lt;dbl&gt;</th><th scope=col>&lt;dbl&gt;</th><th scope=col>&lt;dbl&gt;</th><th scope=col>&lt;dbl&gt;</th><th scope=col>&lt;int&gt;</th><th scope=col>&lt;dbl&gt;</th><th scope=col>&lt;dbl&gt;</th><th scope=col>&lt;int&gt;</th><th scope=col>&lt;dbl&gt;</th><th scope=col>&lt;dbl&gt;</th><th scope=col>&lt;fct&gt;</th><th scope=col>&lt;dbl&gt;</th><th scope=col>&lt;fct&gt;</th></tr>\n",
       "</thead>\n",
       "<tbody>\n",
       "\t<tr><th scope=row>1</th><td>32894</td><td>Röyksopp            </td><td>Röyksopp's Night Out       </td><td>0</td><td>0.00468</td><td>0.652</td><td>    -1</td><td>0.941</td><td>7.92e-01</td><td> 2</td><td>0.1150</td><td> -5.201</td><td>1</td><td>0.0748</td><td>100.889</td><td>4-Apr</td><td>0.759</td><td>Electronic</td></tr>\n",
       "\t<tr><th scope=row>2</th><td>46652</td><td>Thievery Corporation</td><td>The Shining Path           </td><td>0</td><td>0.01270</td><td>0.622</td><td>218293</td><td>0.890</td><td>9.50e-01</td><td> 6</td><td>0.1240</td><td> -7.043</td><td>1</td><td>0.0300</td><td>115.002</td><td>4-Apr</td><td>0.531</td><td>Electronic</td></tr>\n",
       "\t<tr><th scope=row>3</th><td>30097</td><td>Dillon Francis      </td><td>Hurricane                  </td><td>0</td><td>0.00306</td><td>0.620</td><td>215613</td><td>0.755</td><td>1.18e-02</td><td>12</td><td>0.5340</td><td> -4.617</td><td>0</td><td>0.0345</td><td>127.994</td><td>4-Apr</td><td>0.333</td><td>Electronic</td></tr>\n",
       "\t<tr><th scope=row>4</th><td>62177</td><td>Dubloadz            </td><td>Nitro                      </td><td>0</td><td>0.02540</td><td>0.774</td><td>166875</td><td>0.700</td><td>2.53e-03</td><td> 5</td><td>0.1570</td><td> -4.498</td><td>0</td><td>0.2390</td><td>128.014</td><td>4-Apr</td><td>0.270</td><td>Electronic</td></tr>\n",
       "\t<tr><th scope=row>5</th><td>24907</td><td><span style=white-space:pre-wrap>What So Not         </span></td><td><span style=white-space:pre-wrap>Divide &amp; Conquer           </span></td><td>0</td><td>0.00465</td><td>0.638</td><td>222369</td><td>0.587</td><td>9.09e-01</td><td>10</td><td>0.1570</td><td> -6.266</td><td>0</td><td>0.0413</td><td>145.036</td><td>4-Apr</td><td>0.323</td><td>Electronic</td></tr>\n",
       "\t<tr><th scope=row>6</th><td>43760</td><td>Jordan Comolli      </td><td>Clash                      </td><td>0</td><td>0.02890</td><td>0.572</td><td>214408</td><td>0.803</td><td>7.74e-06</td><td> 3</td><td>0.1060</td><td> -4.294</td><td>0</td><td>0.3510</td><td>149.995</td><td>4-Apr</td><td>0.230</td><td>Electronic</td></tr>\n",
       "\t<tr><th scope=row>7</th><td>30738</td><td>Hraach              </td><td>Delirio                    </td><td>0</td><td>0.02970</td><td>0.809</td><td>416132</td><td>0.706</td><td>9.03e-01</td><td>11</td><td>0.0635</td><td> -9.339</td><td>1</td><td>0.0484</td><td>120.008</td><td>4-Apr</td><td>0.761</td><td>Electronic</td></tr>\n",
       "\t<tr><th scope=row>8</th><td>84950</td><td>Kayzo               </td><td>NEVER ALONE                </td><td>0</td><td>0.00299</td><td>0.509</td><td>292800</td><td>0.921</td><td>2.76e-04</td><td> 9</td><td>0.1780</td><td> -3.175</td><td>1</td><td>0.2680</td><td>149.948</td><td>4-Apr</td><td>0.273</td><td>Electronic</td></tr>\n",
       "\t<tr><th scope=row>9</th><td>56950</td><td>Shlump              </td><td>Lazer Beam                 </td><td>0</td><td>0.00934</td><td>0.578</td><td>204800</td><td>0.731</td><td>1.12e-02</td><td> 1</td><td>0.1110</td><td> -7.091</td><td>1</td><td>0.1730</td><td>139.933</td><td>4-Apr</td><td>0.203</td><td>Electronic</td></tr>\n",
       "\t<tr><th scope=row>10</th><td>49030</td><td><span style=white-space:pre-wrap>Chase &amp; Status      </span></td><td>Lost &amp; Not Found - Acoustic</td><td>0</td><td>0.85500</td><td>0.607</td><td>170463</td><td>0.158</td><td>0.00e+00</td><td>10</td><td>0.1060</td><td>-13.787</td><td>1</td><td>0.0345</td><td> 57.528</td><td>4-Apr</td><td>0.307</td><td>Electronic</td></tr>\n",
       "</tbody>\n",
       "</table>\n"
      ],
      "text/latex": [
       "A data.frame: 10 × 18\n",
       "\\begin{tabular}{r|llllllllllllllllll}\n",
       "  & instance\\_id & artist\\_name & track\\_name & popularity & acousticness & danceability & duration\\_ms & energy & instrumentalness & key & liveness & loudness & mode & speechiness & tempo & obtained\\_date & valence & music\\_genre\\\\\n",
       "  & <int> & <fct> & <fct> & <int> & <dbl> & <dbl> & <dbl> & <dbl> & <dbl> & <int> & <dbl> & <dbl> & <int> & <dbl> & <dbl> & <fct> & <dbl> & <fct>\\\\\n",
       "\\hline\n",
       "\t1 & 32894 & Röyksopp             & Röyksopp's Night Out        & 0 & 0.00468 & 0.652 &     -1 & 0.941 & 7.92e-01 &  2 & 0.1150 &  -5.201 & 1 & 0.0748 & 100.889 & 4-Apr & 0.759 & Electronic\\\\\n",
       "\t2 & 46652 & Thievery Corporation & The Shining Path            & 0 & 0.01270 & 0.622 & 218293 & 0.890 & 9.50e-01 &  6 & 0.1240 &  -7.043 & 1 & 0.0300 & 115.002 & 4-Apr & 0.531 & Electronic\\\\\n",
       "\t3 & 30097 & Dillon Francis       & Hurricane                   & 0 & 0.00306 & 0.620 & 215613 & 0.755 & 1.18e-02 & 12 & 0.5340 &  -4.617 & 0 & 0.0345 & 127.994 & 4-Apr & 0.333 & Electronic\\\\\n",
       "\t4 & 62177 & Dubloadz             & Nitro                       & 0 & 0.02540 & 0.774 & 166875 & 0.700 & 2.53e-03 &  5 & 0.1570 &  -4.498 & 0 & 0.2390 & 128.014 & 4-Apr & 0.270 & Electronic\\\\\n",
       "\t5 & 24907 & What So Not          & Divide \\& Conquer            & 0 & 0.00465 & 0.638 & 222369 & 0.587 & 9.09e-01 & 10 & 0.1570 &  -6.266 & 0 & 0.0413 & 145.036 & 4-Apr & 0.323 & Electronic\\\\\n",
       "\t6 & 43760 & Jordan Comolli       & Clash                       & 0 & 0.02890 & 0.572 & 214408 & 0.803 & 7.74e-06 &  3 & 0.1060 &  -4.294 & 0 & 0.3510 & 149.995 & 4-Apr & 0.230 & Electronic\\\\\n",
       "\t7 & 30738 & Hraach               & Delirio                     & 0 & 0.02970 & 0.809 & 416132 & 0.706 & 9.03e-01 & 11 & 0.0635 &  -9.339 & 1 & 0.0484 & 120.008 & 4-Apr & 0.761 & Electronic\\\\\n",
       "\t8 & 84950 & Kayzo                & NEVER ALONE                 & 0 & 0.00299 & 0.509 & 292800 & 0.921 & 2.76e-04 &  9 & 0.1780 &  -3.175 & 1 & 0.2680 & 149.948 & 4-Apr & 0.273 & Electronic\\\\\n",
       "\t9 & 56950 & Shlump               & Lazer Beam                  & 0 & 0.00934 & 0.578 & 204800 & 0.731 & 1.12e-02 &  1 & 0.1110 &  -7.091 & 1 & 0.1730 & 139.933 & 4-Apr & 0.203 & Electronic\\\\\n",
       "\t10 & 49030 & Chase \\& Status       & Lost \\& Not Found - Acoustic & 0 & 0.85500 & 0.607 & 170463 & 0.158 & 0.00e+00 & 10 & 0.1060 & -13.787 & 1 & 0.0345 &  57.528 & 4-Apr & 0.307 & Electronic\\\\\n",
       "\\end{tabular}\n"
      ],
      "text/markdown": [
       "\n",
       "A data.frame: 10 × 18\n",
       "\n",
       "| <!--/--> | instance_id &lt;int&gt; | artist_name &lt;fct&gt; | track_name &lt;fct&gt; | popularity &lt;int&gt; | acousticness &lt;dbl&gt; | danceability &lt;dbl&gt; | duration_ms &lt;dbl&gt; | energy &lt;dbl&gt; | instrumentalness &lt;dbl&gt; | key &lt;int&gt; | liveness &lt;dbl&gt; | loudness &lt;dbl&gt; | mode &lt;int&gt; | speechiness &lt;dbl&gt; | tempo &lt;dbl&gt; | obtained_date &lt;fct&gt; | valence &lt;dbl&gt; | music_genre &lt;fct&gt; |\n",
       "|---|---|---|---|---|---|---|---|---|---|---|---|---|---|---|---|---|---|---|\n",
       "| 1 | 32894 | Röyksopp             | Röyksopp's Night Out        | 0 | 0.00468 | 0.652 |     -1 | 0.941 | 7.92e-01 |  2 | 0.1150 |  -5.201 | 1 | 0.0748 | 100.889 | 4-Apr | 0.759 | Electronic |\n",
       "| 2 | 46652 | Thievery Corporation | The Shining Path            | 0 | 0.01270 | 0.622 | 218293 | 0.890 | 9.50e-01 |  6 | 0.1240 |  -7.043 | 1 | 0.0300 | 115.002 | 4-Apr | 0.531 | Electronic |\n",
       "| 3 | 30097 | Dillon Francis       | Hurricane                   | 0 | 0.00306 | 0.620 | 215613 | 0.755 | 1.18e-02 | 12 | 0.5340 |  -4.617 | 0 | 0.0345 | 127.994 | 4-Apr | 0.333 | Electronic |\n",
       "| 4 | 62177 | Dubloadz             | Nitro                       | 0 | 0.02540 | 0.774 | 166875 | 0.700 | 2.53e-03 |  5 | 0.1570 |  -4.498 | 0 | 0.2390 | 128.014 | 4-Apr | 0.270 | Electronic |\n",
       "| 5 | 24907 | What So Not          | Divide &amp; Conquer            | 0 | 0.00465 | 0.638 | 222369 | 0.587 | 9.09e-01 | 10 | 0.1570 |  -6.266 | 0 | 0.0413 | 145.036 | 4-Apr | 0.323 | Electronic |\n",
       "| 6 | 43760 | Jordan Comolli       | Clash                       | 0 | 0.02890 | 0.572 | 214408 | 0.803 | 7.74e-06 |  3 | 0.1060 |  -4.294 | 0 | 0.3510 | 149.995 | 4-Apr | 0.230 | Electronic |\n",
       "| 7 | 30738 | Hraach               | Delirio                     | 0 | 0.02970 | 0.809 | 416132 | 0.706 | 9.03e-01 | 11 | 0.0635 |  -9.339 | 1 | 0.0484 | 120.008 | 4-Apr | 0.761 | Electronic |\n",
       "| 8 | 84950 | Kayzo                | NEVER ALONE                 | 0 | 0.00299 | 0.509 | 292800 | 0.921 | 2.76e-04 |  9 | 0.1780 |  -3.175 | 1 | 0.2680 | 149.948 | 4-Apr | 0.273 | Electronic |\n",
       "| 9 | 56950 | Shlump               | Lazer Beam                  | 0 | 0.00934 | 0.578 | 204800 | 0.731 | 1.12e-02 |  1 | 0.1110 |  -7.091 | 1 | 0.1730 | 139.933 | 4-Apr | 0.203 | Electronic |\n",
       "| 10 | 49030 | Chase &amp; Status       | Lost &amp; Not Found - Acoustic | 0 | 0.85500 | 0.607 | 170463 | 0.158 | 0.00e+00 | 10 | 0.1060 | -13.787 | 1 | 0.0345 |  57.528 | 4-Apr | 0.307 | Electronic |\n",
       "\n"
      ],
      "text/plain": [
       "   instance_id artist_name          track_name                  popularity\n",
       "1  32894       Röyksopp             Röyksopp's Night Out        0         \n",
       "2  46652       Thievery Corporation The Shining Path            0         \n",
       "3  30097       Dillon Francis       Hurricane                   0         \n",
       "4  62177       Dubloadz             Nitro                       0         \n",
       "5  24907       What So Not          Divide & Conquer            0         \n",
       "6  43760       Jordan Comolli       Clash                       0         \n",
       "7  30738       Hraach               Delirio                     0         \n",
       "8  84950       Kayzo                NEVER ALONE                 0         \n",
       "9  56950       Shlump               Lazer Beam                  0         \n",
       "10 49030       Chase & Status       Lost & Not Found - Acoustic 0         \n",
       "   acousticness danceability duration_ms energy instrumentalness key liveness\n",
       "1  0.00468      0.652            -1      0.941  7.92e-01          2  0.1150  \n",
       "2  0.01270      0.622        218293      0.890  9.50e-01          6  0.1240  \n",
       "3  0.00306      0.620        215613      0.755  1.18e-02         12  0.5340  \n",
       "4  0.02540      0.774        166875      0.700  2.53e-03          5  0.1570  \n",
       "5  0.00465      0.638        222369      0.587  9.09e-01         10  0.1570  \n",
       "6  0.02890      0.572        214408      0.803  7.74e-06          3  0.1060  \n",
       "7  0.02970      0.809        416132      0.706  9.03e-01         11  0.0635  \n",
       "8  0.00299      0.509        292800      0.921  2.76e-04          9  0.1780  \n",
       "9  0.00934      0.578        204800      0.731  1.12e-02          1  0.1110  \n",
       "10 0.85500      0.607        170463      0.158  0.00e+00         10  0.1060  \n",
       "   loudness mode speechiness tempo   obtained_date valence music_genre\n",
       "1   -5.201  1    0.0748      100.889 4-Apr         0.759   Electronic \n",
       "2   -7.043  1    0.0300      115.002 4-Apr         0.531   Electronic \n",
       "3   -4.617  0    0.0345      127.994 4-Apr         0.333   Electronic \n",
       "4   -4.498  0    0.2390      128.014 4-Apr         0.270   Electronic \n",
       "5   -6.266  0    0.0413      145.036 4-Apr         0.323   Electronic \n",
       "6   -4.294  0    0.3510      149.995 4-Apr         0.230   Electronic \n",
       "7   -9.339  1    0.0484      120.008 4-Apr         0.761   Electronic \n",
       "8   -3.175  1    0.2680      149.948 4-Apr         0.273   Electronic \n",
       "9   -7.091  1    0.1730      139.933 4-Apr         0.203   Electronic \n",
       "10 -13.787  1    0.0345       57.528 4-Apr         0.307   Electronic "
      ]
     },
     "metadata": {},
     "output_type": "display_data"
    }
   ],
   "source": [
    "songs <- read.csv('processed_songs.csv', stringsAsFactors = TRUE)\n",
    "head(songs, 10)"
   ]
  },
  {
   "cell_type": "code",
   "execution_count": 3,
   "id": "c5662dcb",
   "metadata": {},
   "outputs": [],
   "source": [
    "set.seed(11111)\n",
    "feats <- names(songs)[c(5:11,13:15,17)]\n",
    "train_songs <- songs %>%\n",
    "  mutate_if(is.numeric, scale)\n",
    "\n",
    "training_songs <- sample(1:nrow(train_songs), nrow(train_songs)*.75, replace = FALSE)\n",
    "train_set <- train_songs[training_songs, c('music_genre', feats)] \n",
    "test_set <- train_songs[-training_songs, c('music_genre', feats)] "
   ]
  },
  {
   "cell_type": "markdown",
   "id": "36046be2",
   "metadata": {},
   "source": [
    "# Random Forest "
   ]
  },
  {
   "cell_type": "code",
   "execution_count": 4,
   "id": "178542f9",
   "metadata": {},
   "outputs": [],
   "source": [
    "songs_rf <- randomForest(music_genre~., data = train_set, mtry = 4)\n",
    "\n",
    "pred_train <- predict(songs_rf)\n",
    "pred_test <- predict(songs_rf, test_set)"
   ]
  },
  {
   "cell_type": "code",
   "execution_count": 5,
   "id": "197ffd9a",
   "metadata": {},
   "outputs": [
    {
     "data": {
      "text/plain": [
       "Confusion Matrix and Statistics\n",
       "\n",
       "             Reference\n",
       "Prediction    Alternative Anime Blues Classical Country Electronic Hip-Hop Jazz\n",
       "  Alternative         658   304   233        94     145        198     146   87\n",
       "  Anime               348  1577   207       156     159        183      30  125\n",
       "  Blues               292   178  1344        50     323        157      59  479\n",
       "  Classical             9   381    39      2580       5         12       3  241\n",
       "  Country             343   264   422        11    1878         63      75  122\n",
       "  Electronic          280   223   151        55      32       2062     130  435\n",
       "  Hip-Hop             328    31    85         4     136        152    1335  137\n",
       "  Jazz                204   200   471       169     126        370      61 1625\n",
       "  Rap                 304    38    53         0     136         86    1526   82\n",
       "  Rock                559   184   363        19     427         97      33   55\n",
       "             Reference\n",
       "Prediction     Rap Rock\n",
       "  Alternative  243  636\n",
       "  Anime         65  298\n",
       "  Blues         37  606\n",
       "  Classical      0   27\n",
       "  Country      124  827\n",
       "  Electronic   120  179\n",
       "  Hip-Hop     1914   81\n",
       "  Jazz          58  189\n",
       "  Rap          691  119\n",
       "  Rock         103  435\n",
       "\n",
       "Overall Statistics\n",
       "                                          \n",
       "               Accuracy : 0.4235          \n",
       "                 95% CI : (0.4182, 0.4288)\n",
       "    No Information Rate : 0.1014          \n",
       "    P-Value [Acc > NIR] : < 2.2e-16       \n",
       "                                          \n",
       "                  Kappa : 0.3594          \n",
       "                                          \n",
       " Mcnemar's Test P-Value : NA              \n",
       "\n",
       "Statistics by Class:\n",
       "\n",
       "                     Class: Alternative Class: Anime Class: Blues\n",
       "Sensitivity                     0.19789      0.46657      0.39905\n",
       "Specificity                     0.93086      0.94784      0.92761\n",
       "Pos Pred Value                  0.23980      0.50095      0.38128\n",
       "Neg Pred Value                  0.91327      0.94059      0.93247\n",
       "Prevalence                      0.09927      0.10091      0.10055\n",
       "Detection Rate                  0.01964      0.04708      0.04012\n",
       "Detection Prevalence            0.08192      0.09398      0.10524\n",
       "Balanced Accuracy               0.56438      0.70720      0.66333\n",
       "                     Class: Classical Class: Country Class: Electronic\n",
       "Sensitivity                   0.82218        0.55777           0.61006\n",
       "Specificity                   0.97638        0.92529           0.94671\n",
       "Pos Pred Value                0.78253        0.45483           0.56231\n",
       "Neg Pred Value                0.98152        0.94930           0.95581\n",
       "Prevalence                    0.09368        0.10052           0.10091\n",
       "Detection Rate                0.07702        0.05607           0.06156\n",
       "Detection Prevalence          0.09843        0.12327           0.10948\n",
       "Balanced Accuracy             0.89928        0.74153           0.77838\n",
       "                     Class: Hip-Hop Class: Jazz Class: Rap Class: Rock\n",
       "Sensitivity                 0.39288     0.47963    0.20596     0.12805\n",
       "Specificity                 0.90471     0.93862    0.92223     0.93887\n",
       "Pos Pred Value              0.31763     0.46790    0.22768     0.19121\n",
       "Neg Pred Value              0.92957     0.94128    0.91254     0.90513\n",
       "Prevalence                  0.10144     0.10115    0.10016     0.10142\n",
       "Detection Rate              0.03986     0.04851    0.02063     0.01299\n",
       "Detection Prevalence        0.12548     0.10368    0.09061     0.06792\n",
       "Balanced Accuracy           0.64879     0.70913    0.56410     0.53346"
      ]
     },
     "metadata": {},
     "output_type": "display_data"
    }
   ],
   "source": [
    "confusionMatrix(pred_train, as.factor(train_set$music_genre))"
   ]
  },
  {
   "cell_type": "code",
   "execution_count": 6,
   "id": "b64a7198",
   "metadata": {},
   "outputs": [
    {
     "data": {
      "text/plain": [
       "Confusion Matrix and Statistics\n",
       "\n",
       "             Reference\n",
       "Prediction    Alternative Anime Blues Classical Country Electronic Hip-Hop Jazz\n",
       "  Alternative         247   100    60        33      50         62      60   33\n",
       "  Anime               114   546    66        65      48         64       9   45\n",
       "  Blues                87    62   410        15     111         48      14  159\n",
       "  Classical             4    97    17       912       3          3       0   85\n",
       "  Country             122    82   115         7     626         22      19   46\n",
       "  Electronic          102    83    44        11       7        635      37  129\n",
       "  Hip-Hop             131    12    33         0      48         49     453   55\n",
       "  Jazz                 66    79   185        63      28        118      23  514\n",
       "  Rap                 106     8    14         0      52         29     496   18\n",
       "  Rock                189    39   121         5     146         38      10   15\n",
       "             Reference\n",
       "Prediction    Rap Rock\n",
       "  Alternative  70  249\n",
       "  Anime        19   99\n",
       "  Blues        10  195\n",
       "  Classical     1   11\n",
       "  Country      44  262\n",
       "  Electronic   37   70\n",
       "  Hip-Hop     682   28\n",
       "  Jazz         18   61\n",
       "  Rap         231   37\n",
       "  Rock         37  146\n",
       "\n",
       "Overall Statistics\n",
       "                                          \n",
       "               Accuracy : 0.4227          \n",
       "                 95% CI : (0.4135, 0.4319)\n",
       "    No Information Rate : 0.1046          \n",
       "    P-Value [Acc > NIR] : < 2.2e-16       \n",
       "                                          \n",
       "                  Kappa : 0.3587          \n",
       "                                          \n",
       " Mcnemar's Test P-Value : NA              \n",
       "\n",
       "Statistics by Class:\n",
       "\n",
       "                     Class: Alternative Class: Anime Class: Blues\n",
       "Sensitivity                     0.21147      0.49278      0.38498\n",
       "Specificity                     0.92829      0.94741      0.93060\n",
       "Pos Pred Value                  0.25622      0.50791      0.36904\n",
       "Neg Pred Value                  0.90972      0.94431      0.93486\n",
       "Prevalence                      0.10460      0.09923      0.09538\n",
       "Detection Rate                  0.02212      0.04890      0.03672\n",
       "Detection Prevalence            0.08633      0.09627      0.09950\n",
       "Balanced Accuracy               0.56988      0.72009      0.65779\n",
       "                     Class: Classical Class: Country Class: Electronic\n",
       "Sensitivity                   0.82088        0.55943           0.59457\n",
       "Specificity                   0.97802        0.92844           0.94850\n",
       "Pos Pred Value                0.80494        0.46543           0.54978\n",
       "Neg Pred Value                0.98017        0.94980           0.95675\n",
       "Prevalence                    0.09950        0.10021           0.09565\n",
       "Detection Rate                0.08168        0.05606           0.05687\n",
       "Detection Prevalence          0.10147        0.12045           0.10344\n",
       "Balanced Accuracy             0.89945        0.74393           0.77154\n",
       "                     Class: Hip-Hop Class: Jazz Class: Rap Class: Rock\n",
       "Sensitivity                 0.40410     0.46770    0.20104     0.12608\n",
       "Specificity                 0.89667     0.93633    0.92413     0.94005\n",
       "Pos Pred Value              0.30382     0.44502    0.23310     0.19571\n",
       "Neg Pred Value              0.93096     0.94156    0.90978     0.90288\n",
       "Prevalence                  0.10039     0.09842    0.10290     0.10371\n",
       "Detection Rate              0.04057     0.04603    0.02069     0.01308\n",
       "Detection Prevalence        0.13353     0.10344    0.08875     0.06681\n",
       "Balanced Accuracy           0.65038     0.70201    0.56259     0.53306"
      ]
     },
     "metadata": {},
     "output_type": "display_data"
    }
   ],
   "source": [
    "confusionMatrix(pred_test, as.factor(test_set$music_genre))"
   ]
  },
  {
   "cell_type": "code",
   "execution_count": 7,
   "id": "9f050900",
   "metadata": {},
   "outputs": [
    {
     "data": {
      "text/html": [
       "1.63257517001703"
      ],
      "text/latex": [
       "1.63257517001703"
      ],
      "text/markdown": [
       "1.63257517001703"
      ],
      "text/plain": [
       "[1] 1.632575"
      ]
     },
     "metadata": {},
     "output_type": "display_data"
    }
   ],
   "source": [
    "var(as.numeric(pred_test), as.numeric(test_set$music_genre))"
   ]
  },
  {
   "cell_type": "code",
   "execution_count": 10,
   "id": "fa404ee0",
   "metadata": {},
   "outputs": [
    {
     "data": {
      "text/html": [
       "-0.0802435966326348"
      ],
      "text/latex": [
       "-0.0802435966326348"
      ],
      "text/markdown": [
       "-0.0802435966326348"
      ],
      "text/plain": [
       "[1] -0.0802436"
      ]
     },
     "metadata": {},
     "output_type": "display_data"
    }
   ],
   "source": [
    "bias(as.numeric(pred_test), as.numeric(test_set$music_genre))"
   ]
  },
  {
   "cell_type": "markdown",
   "id": "85716517",
   "metadata": {},
   "source": [
    "# Boosting"
   ]
  },
  {
   "cell_type": "code",
   "execution_count": 24,
   "id": "dfd0f307",
   "metadata": {},
   "outputs": [],
   "source": [
    "train_resp <- train_songs[training_songs, 'music_genre']\n",
    "test_resp <- train_songs[-training_songs, 'music_genre']"
   ]
  },
  {
   "cell_type": "code",
   "execution_count": 25,
   "id": "cc260522",
   "metadata": {},
   "outputs": [],
   "source": [
    "matrix_train_gb <- xgb.DMatrix(data = as.matrix(train_set[,-1]), label = as.integer(as.factor(train_set[,1])))\n",
    "matrix_test_gb <- xgb.DMatrix(data = as.matrix(test_set[,-1]), label = as.integer(as.factor(test_set[,1])))\n",
    "\n",
    "model_gb <- xgboost(data = matrix_train_gb, \n",
    "                    nrounds = 50,\n",
    "                    verbose = FALSE,\n",
    "                    params = list(objective = \"multi:softmax\",\n",
    "                                  num_class = 10 + 1))\n",
    "\n",
    "predict_gb_one <- predict(model_gb, matrix_test_gb)\n",
    "predict_gb <- levels(as.factor(test_set$music_genre))[predict_gb_one]\n"
   ]
  },
  {
   "cell_type": "code",
   "execution_count": 26,
   "id": "5413ebc5",
   "metadata": {},
   "outputs": [
    {
     "data": {
      "text/plain": [
       "Confusion Matrix and Statistics\n",
       "\n",
       "             Reference\n",
       "Prediction    Alternative Anime Blues Classical Country Electronic Hip-Hop Jazz\n",
       "  Alternative         218    96    68        25      40         59      30   20\n",
       "  Anime               124   543    55        75      37         63       9   48\n",
       "  Blues                92    51   432        15     124         48      15  168\n",
       "  Classical            12   102    19       914       5          6       1   83\n",
       "  Country             136    89   125         6     641         23      19   41\n",
       "  Electronic          115    79    37        11       9        632      33  118\n",
       "  Hip-Hop             118     4    28         0      48         54     509   48\n",
       "  Jazz                 79    74   175        56      27        104      28  526\n",
       "  Rap                 100    14    19         0      50         35     462   23\n",
       "  Rock                174    56   107         9     138         44      15   24\n",
       "             Reference\n",
       "Prediction    Rap Rock\n",
       "  Alternative  68  168\n",
       "  Anime        21  120\n",
       "  Blues        14  211\n",
       "  Classical     2   10\n",
       "  Country      42  265\n",
       "  Electronic   33   78\n",
       "  Hip-Hop     631   28\n",
       "  Jazz         24   67\n",
       "  Rap         286   31\n",
       "  Rock         28  180\n",
       "\n",
       "Overall Statistics\n",
       "                                          \n",
       "               Accuracy : 0.4371          \n",
       "                 95% CI : (0.4279, 0.4464)\n",
       "    No Information Rate : 0.1046          \n",
       "    P-Value [Acc > NIR] : < 2.2e-16       \n",
       "                                          \n",
       "                  Kappa : 0.3748          \n",
       "                                          \n",
       " Mcnemar's Test P-Value : < 2.2e-16       \n",
       "\n",
       "Statistics by Class:\n",
       "\n",
       "                     Class: Alternative Class: Anime Class: Blues\n",
       "Sensitivity                     0.18664      0.49007      0.40563\n",
       "Specificity                     0.94259      0.94512      0.92694\n",
       "Pos Pred Value                  0.27525      0.49589      0.36923\n",
       "Neg Pred Value                  0.90842      0.94390      0.93667\n",
       "Prevalence                      0.10460      0.09923      0.09538\n",
       "Detection Rate                  0.01952      0.04863      0.03869\n",
       "Detection Prevalence            0.07093      0.09807      0.10478\n",
       "Balanced Accuracy               0.56462      0.71760      0.66629\n",
       "                     Class: Classical Class: Country Class: Electronic\n",
       "Sensitivity                   0.82268        0.57283           0.59176\n",
       "Specificity                   0.97613        0.92575           0.94920\n",
       "Pos Pred Value                0.79203        0.46215           0.55197\n",
       "Neg Pred Value                0.98032        0.95112           0.95649\n",
       "Prevalence                    0.09950        0.10021           0.09565\n",
       "Detection Rate                0.08186        0.05741           0.05660\n",
       "Detection Prevalence          0.10335        0.12422           0.10254\n",
       "Balanced Accuracy             0.89941        0.74929           0.77048\n",
       "                     Class: Hip-Hop Class: Jazz Class: Rap Class: Rock\n",
       "Sensitivity                 0.45406     0.47862    0.24891     0.15544\n",
       "Specificity                 0.90453     0.93702    0.92672     0.94055\n",
       "Pos Pred Value              0.34673     0.45345    0.28039     0.23226\n",
       "Neg Pred Value              0.93689     0.94273    0.91494     0.90588\n",
       "Prevalence                  0.10039     0.09842    0.10290     0.10371\n",
       "Detection Rate              0.04558     0.04711    0.02561     0.01612\n",
       "Detection Prevalence        0.13147     0.10389    0.09135     0.06941\n",
       "Balanced Accuracy           0.67929     0.70782    0.58782     0.54799"
      ]
     },
     "metadata": {},
     "output_type": "display_data"
    }
   ],
   "source": [
    "confusionMatrix(as.factor(predict_gb), as.factor(test_set$music_genre))"
   ]
  },
  {
   "cell_type": "code",
   "execution_count": 27,
   "id": "bfc14013",
   "metadata": {},
   "outputs": [
    {
     "data": {
      "text/html": [
       "1.85823707196347"
      ],
      "text/latex": [
       "1.85823707196347"
      ],
      "text/markdown": [
       "1.85823707196347"
      ],
      "text/plain": [
       "[1] 1.858237"
      ]
     },
     "metadata": {},
     "output_type": "display_data"
    }
   ],
   "source": [
    "var(as.numeric(predict_gb_one), as.numeric(test_set$music_genre))"
   ]
  },
  {
   "cell_type": "code",
   "execution_count": 28,
   "id": "0b034746",
   "metadata": {},
   "outputs": [
    {
     "data": {
      "text/html": [
       "-0.0167472684936414"
      ],
      "text/latex": [
       "-0.0167472684936414"
      ],
      "text/markdown": [
       "-0.0167472684936414"
      ],
      "text/plain": [
       "[1] -0.01674727"
      ]
     },
     "metadata": {},
     "output_type": "display_data"
    }
   ],
   "source": [
    "bias(as.numeric(predict_gb_one), as.numeric(test_set$music_genre))"
   ]
  },
  {
   "cell_type": "markdown",
   "id": "e6303fd4",
   "metadata": {},
   "source": [
    "# Bagging"
   ]
  },
  {
   "cell_type": "code",
   "execution_count": null,
   "id": "10c92958",
   "metadata": {},
   "outputs": [],
   "source": [
    "gbag <- bagging(music_genre ~ ., data = train_set, coob=TRUE)\n",
    "predict_bag <- predict(gbag, newdata=test_set)"
   ]
  },
  {
   "cell_type": "code",
   "execution_count": 20,
   "id": "d0b4c039",
   "metadata": {},
   "outputs": [
    {
     "data": {
      "text/plain": [
       "Confusion Matrix and Statistics\n",
       "\n",
       "             Reference\n",
       "Prediction    Alternative Anime Blues Classical Country Electronic Hip-Hop Jazz\n",
       "  Alternative         214   100    67        28      71         78      66   37\n",
       "  Anime               116   516    75        87      51         58      11   40\n",
       "  Blues                85    59   363        23     122         55      16  157\n",
       "  Classical             9    91    14       886       2          2       1   82\n",
       "  Country             117    88   120         6     561         24      15   41\n",
       "  Electronic          100    83    50        11      11        592      44  137\n",
       "  Hip-Hop             133    17    31         0      50         49     390   52\n",
       "  Jazz                 56    76   175        61      24        138      22  483\n",
       "  Rap                  99     7    20         2      55         29     542   31\n",
       "  Rock                239    71   150         7     172         43      14   39\n",
       "             Reference\n",
       "Prediction    Rap Rock\n",
       "  Alternative  70  246\n",
       "  Anime        25  123\n",
       "  Blues        15  183\n",
       "  Classical     0    5\n",
       "  Country      41  240\n",
       "  Electronic   37   70\n",
       "  Hip-Hop     649   27\n",
       "  Jazz         20   56\n",
       "  Rap         246   43\n",
       "  Rock         46  165\n",
       "\n",
       "Overall Statistics\n",
       "                                          \n",
       "               Accuracy : 0.3955          \n",
       "                 95% CI : (0.3864, 0.4046)\n",
       "    No Information Rate : 0.1046          \n",
       "    P-Value [Acc > NIR] : < 2.2e-16       \n",
       "                                          \n",
       "                  Kappa : 0.3284          \n",
       "                                          \n",
       " Mcnemar's Test P-Value : < 2.2e-16       \n",
       "\n",
       "Statistics by Class:\n",
       "\n",
       "                     Class: Alternative Class: Anime Class: Blues\n",
       "Sensitivity                     0.18322      0.46570      0.34085\n",
       "Specificity                     0.92368      0.94174      0.92921\n",
       "Pos Pred Value                  0.21904      0.46824      0.33673\n",
       "Neg Pred Value                  0.90637      0.94118      0.93041\n",
       "Prevalence                      0.10460      0.09923      0.09538\n",
       "Detection Rate                  0.01917      0.04621      0.03251\n",
       "Detection Prevalence            0.08750      0.09869      0.09654\n",
       "Balanced Accuracy               0.55345      0.70372      0.63503\n",
       "                     Class: Classical Class: Country Class: Electronic\n",
       "Sensitivity                   0.79748        0.50134           0.55431\n",
       "Specificity                   0.97951        0.93112           0.94623\n",
       "Pos Pred Value                0.81136        0.44773           0.52159\n",
       "Neg Pred Value                0.97767        0.94371           0.95255\n",
       "Prevalence                    0.09950        0.10021           0.09565\n",
       "Detection Rate                0.07935        0.05024           0.05302\n",
       "Detection Prevalence          0.09780        0.11222           0.10165\n",
       "Balanced Accuracy             0.88850        0.71623           0.75027\n",
       "                     Class: Hip-Hop Class: Jazz Class: Rap Class: Rock\n",
       "Sensitivity                 0.34790     0.43949    0.21410     0.14249\n",
       "Specificity                 0.89965     0.93762    0.91734     0.92196\n",
       "Pos Pred Value              0.27897     0.43474    0.22905     0.17442\n",
       "Neg Pred Value              0.92516     0.93874    0.91052     0.90284\n",
       "Prevalence                  0.10039     0.09842    0.10290     0.10371\n",
       "Detection Rate              0.03493     0.04326    0.02203     0.01478\n",
       "Detection Prevalence        0.12520     0.09950    0.09618     0.08472\n",
       "Balanced Accuracy           0.62378     0.68855    0.56572     0.53222"
      ]
     },
     "metadata": {},
     "output_type": "display_data"
    }
   ],
   "source": [
    "confusionMatrix(as.factor(predict_bag), as.factor(test_set$music_genre))"
   ]
  },
  {
   "cell_type": "code",
   "execution_count": 21,
   "id": "96aaa338",
   "metadata": {},
   "outputs": [
    {
     "data": {
      "text/html": [
       "1.44233802971226"
      ],
      "text/latex": [
       "1.44233802971226"
      ],
      "text/markdown": [
       "1.44233802971226"
      ],
      "text/plain": [
       "[1] 1.442338"
      ]
     },
     "metadata": {},
     "output_type": "display_data"
    }
   ],
   "source": [
    "var(as.numeric(predict_bag), as.numeric(test_set$music_genre))"
   ]
  },
  {
   "cell_type": "code",
   "execution_count": 22,
   "id": "2c264a93",
   "metadata": {},
   "outputs": [
    {
     "data": {
      "text/html": [
       "0.00644814615797958"
      ],
      "text/latex": [
       "0.00644814615797958"
      ],
      "text/markdown": [
       "0.00644814615797958"
      ],
      "text/plain": [
       "[1] 0.006448146"
      ]
     },
     "metadata": {},
     "output_type": "display_data"
    }
   ],
   "source": [
    "bias(as.numeric(predict_bag), as.numeric(test_set$music_genre))"
   ]
  }
 ],
 "metadata": {
  "kernelspec": {
   "display_name": "R",
   "language": "R",
   "name": "ir"
  },
  "language_info": {
   "codemirror_mode": "r",
   "file_extension": ".r",
   "mimetype": "text/x-r-source",
   "name": "R",
   "pygments_lexer": "r",
   "version": "4.2.1"
  }
 },
 "nbformat": 4,
 "nbformat_minor": 5
}
